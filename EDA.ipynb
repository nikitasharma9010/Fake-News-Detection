{
 "cells": [
  {
   "cell_type": "markdown",
   "metadata": {
    "heading_collapsed": true
   },
   "source": [
    "## Setup"
   ]
  },
  {
   "cell_type": "code",
   "execution_count": 2,
   "metadata": {
    "hidden": true
   },
   "outputs": [],
   "source": [
    "from imports import np, pd, plt\n",
    "from global_variables import *\n",
    "from load_files import *"
   ]
  },
  {
   "cell_type": "markdown",
   "metadata": {
    "heading_collapsed": true
   },
   "source": [
    "## EDA v1"
   ]
  },
  {
   "cell_type": "markdown",
   "metadata": {
    "heading_collapsed": true,
    "hidden": true
   },
   "source": [
    "### Info"
   ]
  },
  {
   "cell_type": "code",
   "execution_count": 3,
   "metadata": {
    "hidden": true
   },
   "outputs": [
    {
     "name": "stdout",
     "output_type": "stream",
     "text": [
      "<class 'pandas.core.frame.DataFrame'>\n",
      "RangeIndex: 21417 entries, 0 to 21416\n",
      "Data columns (total 4 columns):\n",
      " #   Column   Non-Null Count  Dtype \n",
      "---  ------   --------------  ----- \n",
      " 0   title    21417 non-null  object\n",
      " 1   text     21417 non-null  object\n",
      " 2   subject  21417 non-null  object\n",
      " 3   date     21417 non-null  object\n",
      "dtypes: object(4)\n",
      "memory usage: 669.4+ KB\n"
     ]
    }
   ],
   "source": [
    "true.info()"
   ]
  },
  {
   "cell_type": "code",
   "execution_count": 4,
   "metadata": {
    "hidden": true
   },
   "outputs": [
    {
     "name": "stdout",
     "output_type": "stream",
     "text": [
      "<class 'pandas.core.frame.DataFrame'>\n",
      "RangeIndex: 23481 entries, 0 to 23480\n",
      "Data columns (total 4 columns):\n",
      " #   Column   Non-Null Count  Dtype \n",
      "---  ------   --------------  ----- \n",
      " 0   title    23481 non-null  object\n",
      " 1   text     23481 non-null  object\n",
      " 2   subject  23481 non-null  object\n",
      " 3   date     23481 non-null  object\n",
      "dtypes: object(4)\n",
      "memory usage: 733.9+ KB\n"
     ]
    }
   ],
   "source": [
    "fake.info()"
   ]
  },
  {
   "cell_type": "markdown",
   "metadata": {
    "heading_collapsed": true,
    "hidden": true
   },
   "source": [
    "### Missing Entries"
   ]
  },
  {
   "cell_type": "code",
   "execution_count": 5,
   "metadata": {
    "hidden": true
   },
   "outputs": [
    {
     "data": {
      "text/plain": [
       "title      0\n",
       "text       0\n",
       "subject    0\n",
       "date       0\n",
       "dtype: int64"
      ]
     },
     "execution_count": 5,
     "metadata": {},
     "output_type": "execute_result"
    }
   ],
   "source": [
    "true.isnull().sum()\n",
    "# no missing entries in true news dataset"
   ]
  },
  {
   "cell_type": "code",
   "execution_count": 6,
   "metadata": {
    "hidden": true
   },
   "outputs": [
    {
     "data": {
      "text/plain": [
       "title      0\n",
       "text       0\n",
       "subject    0\n",
       "date       0\n",
       "dtype: int64"
      ]
     },
     "execution_count": 6,
     "metadata": {},
     "output_type": "execute_result"
    }
   ],
   "source": [
    "fake.isnull().sum()\n",
    "# no missing entries in fake news dataset."
   ]
  },
  {
   "cell_type": "markdown",
   "metadata": {
    "heading_collapsed": true
   },
   "source": [
    "## Merge data"
   ]
  },
  {
   "cell_type": "code",
   "execution_count": 7,
   "metadata": {
    "hidden": true
   },
   "outputs": [],
   "source": [
    "# Add label column: isfake\n",
    "\n",
    "true['isfake'] = 0\n",
    "fake['isfake'] = 1"
   ]
  },
  {
   "cell_type": "code",
   "execution_count": 8,
   "metadata": {
    "hidden": true
   },
   "outputs": [],
   "source": [
    "allnewsdata = pd.concat([true, fake])\n",
    "allnewsdata = allnewsdata.reset_index(drop=True)"
   ]
  },
  {
   "cell_type": "code",
   "execution_count": 9,
   "metadata": {
    "hidden": true
   },
   "outputs": [
    {
     "data": {
      "text/plain": [
       "True"
      ]
     },
     "execution_count": 9,
     "metadata": {},
     "output_type": "execute_result"
    }
   ],
   "source": [
    "len(allnewsdata) == len(true) + len(fake)"
   ]
  },
  {
   "cell_type": "markdown",
   "metadata": {
    "heading_collapsed": true
   },
   "source": [
    "## EDA v2"
   ]
  },
  {
   "cell_type": "markdown",
   "metadata": {
    "heading_collapsed": true,
    "hidden": true
   },
   "source": [
    "### Info"
   ]
  },
  {
   "cell_type": "code",
   "execution_count": 10,
   "metadata": {
    "hidden": true
   },
   "outputs": [
    {
     "name": "stdout",
     "output_type": "stream",
     "text": [
      "<class 'pandas.core.frame.DataFrame'>\n",
      "RangeIndex: 44898 entries, 0 to 44897\n",
      "Data columns (total 5 columns):\n",
      " #   Column   Non-Null Count  Dtype \n",
      "---  ------   --------------  ----- \n",
      " 0   title    44898 non-null  object\n",
      " 1   text     44898 non-null  object\n",
      " 2   subject  44898 non-null  object\n",
      " 3   date     44898 non-null  object\n",
      " 4   isfake   44898 non-null  int64 \n",
      "dtypes: int64(1), object(4)\n",
      "memory usage: 1.7+ MB\n"
     ]
    }
   ],
   "source": [
    "allnewsdata.info()"
   ]
  },
  {
   "cell_type": "markdown",
   "metadata": {
    "heading_collapsed": true,
    "hidden": true
   },
   "source": [
    "### Univariate Analysis"
   ]
  },
  {
   "cell_type": "code",
   "execution_count": 11,
   "metadata": {
    "hidden": true
   },
   "outputs": [],
   "source": [
    "COLUMNS = allnewsdata.columns.values"
   ]
  },
  {
   "cell_type": "markdown",
   "metadata": {
    "heading_collapsed": true,
    "hidden": true
   },
   "source": [
    "#### title"
   ]
  },
  {
   "cell_type": "code",
   "execution_count": 13,
   "metadata": {
    "hidden": true
   },
   "outputs": [
    {
     "name": "stdout",
     "output_type": "stream",
     "text": [
      "object\n",
      "286\n",
      "8\n"
     ]
    }
   ],
   "source": [
    "# title: object/str (maxlen: 286, minlen: 8)\n",
    "\n",
    "print(allnewsdata[COLUMNS[0]].dtype)\n",
    "print(allnewsdata[COLUMNS[0]].str.len().max())\n",
    "print(allnewsdata[COLUMNS[0]].str.len().min())"
   ]
  },
  {
   "cell_type": "code",
   "execution_count": 14,
   "metadata": {
    "hidden": true
   },
   "outputs": [
    {
     "data": {
      "text/plain": [
       "Factbox: Trump fills top jobs for his administration                                                     14\n",
       "Factbox: Contenders for senior jobs in Trump's administration                                             8\n",
       "Highlights: The Trump presidency on April 13 at 9:30 P.M. EDT/0130 GMT on Friday                          8\n",
       "Factbox: International reaction to arrest of Reuters reporters in Myanmar                                 6\n",
       "MEDIA IGNORES Time That Bill Clinton FIRED His FBI Director On Day Before Vince Foster Was Found Dead     6\n",
       "                                                                                                         ..\n",
       "PROOF THAT TRUMP WAS DEAD ON: NJ Rooftop Parties Watched And Celebrated On 9/11                           1\n",
       "Abu Dhabi Crown Prince offers condolences to exiled son of slain Yemeni ex-leader in UAE                  1\n",
       "Peru's Fujimori asks for forgiveness, thanks Kuczynski for pardon                                         1\n",
       "Spanish court orders prison for ex-Salvadoran officer over priests' massacre                              1\n",
       " Mitch McConnell Freezes GOP Donors Into Loudest Silence EVER With One Question About Trump               1\n",
       "Name: title, Length: 38729, dtype: int64"
      ]
     },
     "execution_count": 14,
     "metadata": {},
     "output_type": "execute_result"
    }
   ],
   "source": [
    "allnewsdata[COLUMNS[0]].value_counts()"
   ]
  },
  {
   "cell_type": "markdown",
   "metadata": {
    "heading_collapsed": true,
    "hidden": true
   },
   "source": [
    "#### text"
   ]
  },
  {
   "cell_type": "code",
   "execution_count": 15,
   "metadata": {
    "hidden": true
   },
   "outputs": [
    {
     "name": "stdout",
     "output_type": "stream",
     "text": [
      "object\n",
      "51794\n",
      "1\n"
     ]
    }
   ],
   "source": [
    "# text: object/str (maxlen: 51794, minlen: 1)\n",
    "\n",
    "print(allnewsdata[COLUMNS[1]].dtype)\n",
    "print(allnewsdata[COLUMNS[1]].str.len().max())\n",
    "print(allnewsdata[COLUMNS[1]].str.len().min())"
   ]
  },
  {
   "cell_type": "code",
   "execution_count": 16,
   "metadata": {
    "hidden": true
   },
   "outputs": [
    {
     "data": {
      "text/plain": [
       "array([627,   8,   5, ...,   1,   1,   1], dtype=int64)"
      ]
     },
     "execution_count": 16,
     "metadata": {},
     "output_type": "execute_result"
    }
   ],
   "source": [
    "allnewsdata[COLUMNS[1]].value_counts().values"
   ]
  },
  {
   "cell_type": "markdown",
   "metadata": {
    "heading_collapsed": true,
    "hidden": true
   },
   "source": [
    "#### subject"
   ]
  },
  {
   "cell_type": "code",
   "execution_count": 17,
   "metadata": {
    "hidden": true
   },
   "outputs": [
    {
     "name": "stdout",
     "output_type": "stream",
     "text": [
      "object\n",
      "15\n",
      "4\n"
     ]
    }
   ],
   "source": [
    "# subject: object/str (maxlen: 15, minlen: 4)\n",
    "\n",
    "print(allnewsdata[COLUMNS[2]].dtype)\n",
    "print(allnewsdata[COLUMNS[2]].str.len().max())\n",
    "print(allnewsdata[COLUMNS[2]].str.len().min())"
   ]
  },
  {
   "cell_type": "code",
   "execution_count": 18,
   "metadata": {
    "hidden": true
   },
   "outputs": [
    {
     "data": {
      "text/plain": [
       "politicsNews       11272\n",
       "worldnews          10145\n",
       "News                9050\n",
       "politics            6841\n",
       "left-news           4459\n",
       "Government News     1570\n",
       "US_News              783\n",
       "Middle-east          778\n",
       "Name: subject, dtype: int64"
      ]
     },
     "execution_count": 18,
     "metadata": {},
     "output_type": "execute_result"
    }
   ],
   "source": [
    "allnewsdata[COLUMNS[2]].value_counts()"
   ]
  },
  {
   "cell_type": "markdown",
   "metadata": {
    "heading_collapsed": true,
    "hidden": true
   },
   "source": [
    "#### date"
   ]
  },
  {
   "cell_type": "code",
   "execution_count": 19,
   "metadata": {
    "hidden": true
   },
   "outputs": [
    {
     "name": "stdout",
     "output_type": "stream",
     "text": [
      "object\n",
      "149\n",
      "9\n"
     ]
    }
   ],
   "source": [
    "# date: object/str (maxlen: 149, minlen: 9)\n",
    "\n",
    "print(allnewsdata[COLUMNS[3]].dtype)\n",
    "print(allnewsdata[COLUMNS[3]].str.len().max())\n",
    "print(allnewsdata[COLUMNS[3]].str.len().min())\n",
    "\n",
    "# data is object type\n",
    "# TODO: change the date to datetime type"
   ]
  },
  {
   "cell_type": "code",
   "execution_count": 20,
   "metadata": {
    "hidden": true
   },
   "outputs": [
    {
     "data": {
      "text/plain": [
       "December 20, 2017                                                                                                                                    182\n",
       "December 6, 2017                                                                                                                                     166\n",
       "November 30, 2017                                                                                                                                    162\n",
       "November 9, 2017                                                                                                                                     158\n",
       "October 13, 2017                                                                                                                                     155\n",
       "                                                                                                                                                    ... \n",
       "MSNBC HOST Rudely Assumes Steel Worker Would Never Let His Son Follow in His Footsteps…He Couldn’t Be More Wrong [Video]                               1\n",
       "August 21, 2016                                                                                                                                        1\n",
       "January 24, 2016                                                                                                                                       1\n",
       "May 28, 2016                                                                                                                                           1\n",
       "https://100percentfedup.com/served-roy-moore-vietnamletter-veteran-sets-record-straight-honorable-decent-respectable-patriotic-commander-soldier/      1\n",
       "Name: date, Length: 2397, dtype: int64"
      ]
     },
     "execution_count": 20,
     "metadata": {},
     "output_type": "execute_result"
    }
   ],
   "source": [
    "allnewsdata[COLUMNS[3]].value_counts()"
   ]
  },
  {
   "cell_type": "markdown",
   "metadata": {
    "heading_collapsed": true,
    "hidden": true
   },
   "source": [
    "#### isfake"
   ]
  },
  {
   "cell_type": "code",
   "execution_count": 21,
   "metadata": {
    "hidden": true
   },
   "outputs": [
    {
     "name": "stdout",
     "output_type": "stream",
     "text": [
      "int64\n",
      "1\n",
      "0\n"
     ]
    }
   ],
   "source": [
    "# isfake: int64 (categorical {0, 1}, where 1 is fake, and 0 otherwise)\n",
    "\n",
    "print(allnewsdata[COLUMNS[4]].dtype)\n",
    "print(allnewsdata[COLUMNS[4]].max())\n",
    "print(allnewsdata[COLUMNS[4]].min())"
   ]
  },
  {
   "cell_type": "code",
   "execution_count": 22,
   "metadata": {
    "hidden": true
   },
   "outputs": [
    {
     "data": {
      "text/plain": [
       "1    23481\n",
       "0    21417\n",
       "Name: isfake, dtype: int64"
      ]
     },
     "execution_count": 22,
     "metadata": {},
     "output_type": "execute_result"
    }
   ],
   "source": [
    "allnewsdata.isfake.value_counts()"
   ]
  },
  {
   "cell_type": "code",
   "execution_count": 23,
   "metadata": {
    "hidden": true
   },
   "outputs": [
    {
     "data": {
      "image/png": "[encoded data removed]",
      "text/plain": [
       "<Figure size 432x288 with 1 Axes>"
      ]
     },
     "metadata": {},
     "output_type": "display_data"
    }
   ],
   "source": [
    "series = allnewsdata.isfake.value_counts()\n",
    "labels = series.keys()\n",
    "labels_alt = ['True', 'False']\n",
    "colors = ['lightgreen', 'red']\n",
    "\n",
    "ax = series.plot(\n",
    "    kind='pie',\n",
    "    autopct='%.2f%%',\n",
    "    startangle=0,\n",
    "    colors=colors,\n",
    "    labels=None)\n",
    "\n",
    "ax.legend(labels=labels_alt,\n",
    "          prop={'size': 12},\n",
    "          bbox_to_anchor=(1, 0.5))\n",
    "\n",
    "plt.title('\\nDistribution of True and Fake news.')\n",
    "plt.tight_layout()\n",
    "plt.show()\n",
    "\n",
    "# Dataset is nearly balanced"
   ]
  },
  {
   "cell_type": "code",
   "execution_count": null,
   "metadata": {
    "hidden": true
   },
   "outputs": [],
   "source": []
  }
 ],
 "metadata": {
  "kernelspec": {
   "display_name": "Python 3",
   "language": "python",
   "name": "python3"
  },
  "language_info": {
   "codemirror_mode": {
    "name": "ipython",
    "version": 3
   },
   "file_extension": ".py",
   "mimetype": "text/x-python",
   "name": "python",
   "nbconvert_exporter": "python",
   "pygments_lexer": "ipython3",
   "version": "3.7.6"
  }
 },
 "nbformat": 4,
 "nbformat_minor": 4
}
